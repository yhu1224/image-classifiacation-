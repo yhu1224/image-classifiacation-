{
 "cells": [
  {
   "cell_type": "code",
   "execution_count": 6,
   "metadata": {
    "collapsed": true
   },
   "outputs": [],
   "source": [
    "%matplotlib inline    \n",
    "#displays images in the notebook rather than a separate window\n",
    "from scipy.misc import imread, imresize #reading and resizing images\n",
    "import matplotlib.pyplot as plt #displaying images\n",
    "import dask.bag as db  #For easy parallelizatoin of applying a function on a list\n",
    "import pandas as pd\n",
    "import glob #getting the list of files in a directory\n",
    "import numpy as np\n",
    "import pickle #use pickle for serializing Python objects to disk"
   ]
  },
  {
   "cell_type": "markdown",
   "metadata": {},
   "source": [
    "### Create a dataframe of image paths, labels and hold-out indicator"
   ]
  },
  {
   "cell_type": "code",
   "execution_count": 7,
   "metadata": {},
   "outputs": [],
   "source": [
    "# ????what is holdout??? \n",
    "DATA_PATH = r\"N:\\DATA\\distracted_driver_classification\"\n",
    "\n",
    "image_df = pd.read_csv(DATA_PATH + r'\\driver_imgs_list.csv')\n",
    "image_paths_df = pd.DataFrame(glob.glob(DATA_PATH + r'\\imgs\\train\\*\\*.jpg'), columns = ['full_path'])\n",
    "image_paths_df['img'] = image_paths_df['full_path'].map(lambda x: x.split('\\\\')[-1])\n",
    "image_df = pd.merge(image_df, image_paths_df, how='inner', on = 'img')\n",
    "image_df['holdout'] = image_df.subject.isin(['p061', 'p064', 'p066', 'p072', 'p075', 'p081'])  #6 Subjects for hold-out set\n",
    "image_df['label'] =   [int(x.replace('c', '')) for x in image_df.classname]\n",
    "image_df = image_df[image_df['classname'].isin(['c0', 'c1'])] #Limiting it to two classes only\n",
    "image_df['rowId'] = range(image_df.shape[0])"
   ]
  },
  {
   "cell_type": "code",
   "execution_count": 10,
   "metadata": {},
   "outputs": [
    {
     "data": {
      "text/html": [
       "<div>\n",
       "<style>\n",
       "    .dataframe thead tr:only-child th {\n",
       "        text-align: right;\n",
       "    }\n",
       "\n",
       "    .dataframe thead th {\n",
       "        text-align: left;\n",
       "    }\n",
       "\n",
       "    .dataframe tbody tr th {\n",
       "        vertical-align: top;\n",
       "    }\n",
       "</style>\n",
       "<table border=\"1\" class=\"dataframe\">\n",
       "  <thead>\n",
       "    <tr style=\"text-align: right;\">\n",
       "      <th></th>\n",
       "      <th>subject</th>\n",
       "      <th>classname</th>\n",
       "      <th>img</th>\n",
       "      <th>full_path</th>\n",
       "      <th>holdout</th>\n",
       "      <th>label</th>\n",
       "      <th>rowId</th>\n",
       "    </tr>\n",
       "  </thead>\n",
       "  <tbody>\n",
       "    <tr>\n",
       "      <th>0</th>\n",
       "      <td>p002</td>\n",
       "      <td>c0</td>\n",
       "      <td>img_44733.jpg</td>\n",
       "      <td>N:\\DATA\\distracted_driver_classification\\imgs\\...</td>\n",
       "      <td>False</td>\n",
       "      <td>0</td>\n",
       "      <td>0</td>\n",
       "    </tr>\n",
       "    <tr>\n",
       "      <th>1</th>\n",
       "      <td>p002</td>\n",
       "      <td>c0</td>\n",
       "      <td>img_72999.jpg</td>\n",
       "      <td>N:\\DATA\\distracted_driver_classification\\imgs\\...</td>\n",
       "      <td>False</td>\n",
       "      <td>0</td>\n",
       "      <td>1</td>\n",
       "    </tr>\n",
       "    <tr>\n",
       "      <th>2</th>\n",
       "      <td>p002</td>\n",
       "      <td>c0</td>\n",
       "      <td>img_25094.jpg</td>\n",
       "      <td>N:\\DATA\\distracted_driver_classification\\imgs\\...</td>\n",
       "      <td>False</td>\n",
       "      <td>0</td>\n",
       "      <td>2</td>\n",
       "    </tr>\n",
       "    <tr>\n",
       "      <th>3</th>\n",
       "      <td>p002</td>\n",
       "      <td>c0</td>\n",
       "      <td>img_69092.jpg</td>\n",
       "      <td>N:\\DATA\\distracted_driver_classification\\imgs\\...</td>\n",
       "      <td>False</td>\n",
       "      <td>0</td>\n",
       "      <td>3</td>\n",
       "    </tr>\n",
       "    <tr>\n",
       "      <th>4</th>\n",
       "      <td>p002</td>\n",
       "      <td>c0</td>\n",
       "      <td>img_92629.jpg</td>\n",
       "      <td>N:\\DATA\\distracted_driver_classification\\imgs\\...</td>\n",
       "      <td>False</td>\n",
       "      <td>0</td>\n",
       "      <td>4</td>\n",
       "    </tr>\n",
       "  </tbody>\n",
       "</table>\n",
       "</div>"
      ],
      "text/plain": [
       "  subject classname            img  \\\n",
       "0    p002        c0  img_44733.jpg   \n",
       "1    p002        c0  img_72999.jpg   \n",
       "2    p002        c0  img_25094.jpg   \n",
       "3    p002        c0  img_69092.jpg   \n",
       "4    p002        c0  img_92629.jpg   \n",
       "\n",
       "                                           full_path  holdout  label  rowId  \n",
       "0  N:\\DATA\\distracted_driver_classification\\imgs\\...    False      0      0  \n",
       "1  N:\\DATA\\distracted_driver_classification\\imgs\\...    False      0      1  \n",
       "2  N:\\DATA\\distracted_driver_classification\\imgs\\...    False      0      2  \n",
       "3  N:\\DATA\\distracted_driver_classification\\imgs\\...    False      0      3  \n",
       "4  N:\\DATA\\distracted_driver_classification\\imgs\\...    False      0      4  "
      ]
     },
     "execution_count": 10,
     "metadata": {},
     "output_type": "execute_result"
    }
   ],
   "source": [
    "image_df.head()"
   ]
  },
  {
   "cell_type": "code",
   "execution_count": 11,
   "metadata": {},
   "outputs": [
    {
     "data": {
      "text/plain": [
       "c0    2489\n",
       "c1    2267\n",
       "Name: classname, dtype: int64"
      ]
     },
     "execution_count": 11,
     "metadata": {},
     "output_type": "execute_result"
    }
   ],
   "source": [
    "image_df['classname'].value_counts()"
   ]
  },
  {
   "cell_type": "markdown",
   "metadata": {},
   "source": [
    "#### Parallel apply using dask.bag\n",
    "`dask.bag` is a library that help with simple parallelization tasks. It is a single-machine analogue of Spark."
   ]
  },
  {
   "cell_type": "code",
   "execution_count": 17,
   "metadata": {
    "collapsed": true
   },
   "outputs": [],
   "source": [
    "#?????what does 3 mean ? mean(2)\n",
    "def read_and_transform(path):\n",
    "    \"\"\"\n",
    "    Helper function to read, convert to grayscale, \n",
    "    crop and downsample an image from a given path.\n",
    "    \"\"\"\n",
    "    return imresize(imread(path)[40:400, 120:640], (64, 64, 3)).mean(2)"
   ]
  },
  {
   "cell_type": "code",
   "execution_count": 18,
   "metadata": {
    "collapsed": true
   },
   "outputs": [],
   "source": [
    "images_bag = db.from_sequence(image_df['full_path']) \n",
    "transformed_images = images_bag.map(read_and_transform).compute()  #apply the function to all the paths\n",
    "                                                                   #parallel and lazy evaluation with dask.bag"
   ]
  },
  {
   "cell_type": "code",
   "execution_count": 19,
   "metadata": {
    "collapsed": true
   },
   "outputs": [],
   "source": [
    "X_train = [transformed_images[i] for i in image_df[image_df.holdout==False].rowId]\n",
    "y_train = image_df[image_df.holdout==False]['label']\n",
    "# ????? np.stack ??? np.newaxis\n",
    "X_train = np.stack(X_train, axis=0)\n",
    "X_train = X_train[:,:,:, np.newaxis]\n",
    "\n",
    "y_train = y_train.astype(np.int64).values"
   ]
  },
  {
   "cell_type": "code",
   "execution_count": 20,
   "metadata": {
    "collapsed": true
   },
   "outputs": [],
   "source": [
    "X_test = [transformed_images[i] for i in image_df[image_df.holdout==True].rowId]\n",
    "y_test = image_df[image_df.holdout==True]['label']\n",
    "\n",
    "X_test = np.stack(X_test, axis=0)\n",
    "X_test = X_test[:,:,:, np.newaxis]\n",
    "\n",
    "y_test = y_test.astype(np.int64).values"
   ]
  },
  {
   "cell_type": "code",
   "execution_count": 21,
   "metadata": {
    "collapsed": true
   },
   "outputs": [],
   "source": [
    "# why serilize to a pickle\n",
    "pickle.dump(((X_train, y_train), (X_test, y_test)), open('driver_images_processed.pckl', 'wb'))"
   ]
  },
  {
   "cell_type": "code",
   "execution_count": null,
   "metadata": {
    "collapsed": true
   },
   "outputs": [],
   "source": []
  }
 ],
 "metadata": {
  "anaconda-cloud": {},
  "kernelspec": {
   "display_name": "Python 3",
   "language": "python",
   "name": "python3"
  },
  "language_info": {
   "codemirror_mode": {
    "name": "ipython",
    "version": 3
   },
   "file_extension": ".py",
   "mimetype": "text/x-python",
   "name": "python",
   "nbconvert_exporter": "python",
   "pygments_lexer": "ipython3",
   "version": "3.5.1"
  }
 },
 "nbformat": 4,
 "nbformat_minor": 1
}
